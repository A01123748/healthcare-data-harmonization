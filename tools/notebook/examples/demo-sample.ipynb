{
 "cells": [
  {
   "cell_type": "code",
   "execution_count": 1,
   "metadata": {},
   "outputs": [],
   "source": [
    "%load_ext wstl"
   ]
  },
  {
   "cell_type": "code",
   "execution_count": 11,
   "metadata": {},
   "outputs": [
    {
     "data": {
      "text/markdown": [
       "\n",
       "## Load Data from HL7v2Store\n",
       "The following line magic command allows you to load data directly from a HL7v2Store and store the results either in a python variable or persist them to disk.\n"
      ],
      "text/plain": [
       "<IPython.core.display.Markdown object>"
      ]
     },
     "metadata": {},
     "output_type": "display_data"
    }
   ],
   "source": [
    "%%markdown\n",
    "\n",
    "## Load Data from HL7v2Store\n",
    "The following line magic command allows you to load data directly from a HL7v2Store and store the results either in a python variable or persist them to disk."
   ]
  },
  {
   "cell_type": "code",
   "execution_count": 2,
   "metadata": {},
   "outputs": [
    {
     "data": {
      "text/plain": [
       "\u001b[0;31mDocstring:\u001b[0m\n",
       "::\n",
       "\n",
       "  %load_hl7v2_datastore --project_id PROJECT_ID --region REGION\n",
       "                            --dataset_id DATASET_ID --hl7v2_store_id\n",
       "                            HL7V2_STORE_ID [--api_version {v1,v1beta1}]\n",
       "                            [--filter FILTER]\n",
       "                            [--dest_file_name DEST_FILE_NAME]\n",
       "\n",
       "Load parsed HL7v2 massage from the HL7v2 Store specified.\n",
       "\n",
       "optional arguments:\n",
       "  --project_id PROJECT_ID\n",
       "                        ID of the GCP project that the HL7v2 Store belongs to.\n",
       "  --region REGION       Region of the HL7v2 Store.\n",
       "  --dataset_id DATASET_ID\n",
       "                        ID of the dataset that the HL7v2 store belongs to.\n",
       "  --hl7v2_store_id HL7V2_STORE_ID\n",
       "                        ID of the HL7v2 store to load data from.\n",
       "  --api_version <{v1,v1beta1}>\n",
       "                        The version of healthcare api to call. Default to v1.\n",
       "  --filter FILTER       filter: string, Restricts messages returned to those\n",
       "                        matching a filter. Syntax: https://cloud.google.com/ap\n",
       "                        pengine/docs/standard/python/search/query_strings\n",
       "                        Fields/functions available for filtering are: *\n",
       "                        `message_type`, from the MSH-9.1 field. For example,\n",
       "                        `NOT message_type = \"ADT\"`. * `send_date` or\n",
       "                        `sendDate`, the YYYY-MM-DD date the message was sent\n",
       "                        in the dataset's time_zone, from the MSH-7 segment.\n",
       "                        For example, `send_date < \"2017-01-02\"`. *\n",
       "                        `send_time`, the timestamp when the message was sent,\n",
       "                        using the RFC3339 time format for comparisons, from\n",
       "                        the MSH-7 segment. For example, `send_time <\n",
       "                        \"2017-01-02T00:00:00-05:00\"`. * `send_facility`, the\n",
       "                        care center that the message came from, from the MSH-4\n",
       "                        segment. For example, `send_facility = \"ABC\"`. *\n",
       "                        `PatientId(value, type)`, which matches if the message\n",
       "                        lists a patient having an ID of the given value and\n",
       "                        type in the PID-2, PID-3, or PID-4 segments. For\n",
       "                        example, `PatientId(\"123456\", \"MRN\")`. * `labels.x`, a\n",
       "                        string value of the label with key `x` as set using\n",
       "                        the Message.labels map. For example,\n",
       "                        `labels.\"priority\"=\"high\"`. The operator `:*` can be\n",
       "                        used to assert the existence of a label. For example,\n",
       "                        `labels.\"priority\":*`.\n",
       "  --dest_file_name DEST_FILE_NAME\n",
       "                        The destination file path to store the loaded data. If\n",
       "                        not provided, the result will be directly returned to\n",
       "                        the IPython kernel.\n",
       "\u001b[0;31mFile:\u001b[0m      ~/miniconda2/envs/labext/lib/python3.5/site-packages/wstl/magics/wstl.py\n"
      ]
     },
     "metadata": {},
     "output_type": "display_data"
    }
   ],
   "source": [
    "%load_hl7v2_datastore?"
   ]
  },
  {
   "cell_type": "code",
   "execution_count": 2,
   "metadata": {},
   "outputs": [],
   "source": [
    "test = %load_hl7v2_datastore --project_id bebinu-dev-test --region us-central1 --dataset_id notebook --hl7v2_store_id notebook"
   ]
  },
  {
   "cell_type": "code",
   "execution_count": 12,
   "metadata": {},
   "outputs": [
    {
     "data": {
      "text/markdown": [
       "\n",
       "## Load JSON data directly from Google Cloud Storage\n",
       "\n",
       "The following line magic command loads JSON data from a GCS bucket and \n",
       "allows the user to either save the results to a python variable, persist them to disk, or print the results.\n"
      ],
      "text/plain": [
       "<IPython.core.display.Markdown object>"
      ]
     },
     "metadata": {},
     "output_type": "display_data"
    }
   ],
   "source": [
    "%%markdown\n",
    "\n",
    "## Load JSON data directly from Google Cloud Storage\n",
    "\n",
    "The following line magic command loads JSON data from a GCS bucket and \n",
    "allows the user to either save the results to a python variable, persist them to disk, or print the results."
   ]
  },
  {
   "cell_type": "code",
   "execution_count": 4,
   "metadata": {},
   "outputs": [
    {
     "data": {
      "text/plain": [
       "\u001b[0;31mDocstring:\u001b[0m\n",
       "::\n",
       "\n",
       "  %load_hl7v2_gcs --bucket_name BUCKET_NAME --source_blob_name\n",
       "                      SOURCE_BLOB_NAME [--dest_file_name DEST_FILE_NAME]\n",
       "\n",
       "Load and return parsed HL7v2 massage from the blob in a GCS bucket specified.\n",
       "\n",
       "optional arguments:\n",
       "  --bucket_name BUCKET_NAME\n",
       "                        The name of the GCS bucket to load data from.\n",
       "  --source_blob_name SOURCE_BLOB_NAME\n",
       "                        The name of the blob to load.\n",
       "  --dest_file_name DEST_FILE_NAME\n",
       "                        The destination file path to store the loaded data. If\n",
       "                        not provided, the result will be directly returned to\n",
       "                        the IPython kernel.\n",
       "\u001b[0;31mFile:\u001b[0m      /opt/conda/lib/python3.7/site-packages/wstl/magics/wstl.py\n"
      ]
     },
     "metadata": {},
     "output_type": "display_data"
    }
   ],
   "source": [
    "%load_hl7v2_gcs?"
   ]
  },
  {
   "cell_type": "code",
   "execution_count": 5,
   "metadata": {},
   "outputs": [
    {
     "data": {
      "application/json": {
       "ADT_A01": {
        "MSH": {
         "0": "MSH",
         "1": "|",
         "10": "7",
         "11": {
          "1": "T",
          "2": "11.2-processing"
         },
         "12": {
          "1": "2.3"
         },
         "13": null,
         "14": null,
         "15": "AL",
         "16": null,
         "17": "44",
         "18": [
          "ASCII"
         ],
         "19": {
          "1": "ENG"
         },
         "2": "^~\\&",
         "20": null,
         "21": null,
         "22": {
          "1": "Resposible - YIEWSLEY FAMILY PRACTICE",
          "2": null,
          "3": "6010",
          "4": null,
          "5": null,
          "6": null,
          "7": "RCode"
         },
         "23": {
          "1": "Reciever - YIEWSLEY FAMILY PRACTICE",
          "2": null,
          "3": "6010",
          "4": null,
          "5": null,
          "6": null,
          "7": "DCode"
         },
         "3": {
          "1": "CERNER",
          "2": "3.2-two",
          "3": "URI"
         },
         "4": {
          "1": "RAL",
          "2": "4.2-two",
          "3": "UUID"
         },
         "5": {
          "1": "STREAMS"
         },
         "6": {
          "1": "RAL",
          "2": "6.2-two",
          "3": "ISO"
         },
         "7": "20190309130156",
         "8": "8-Security",
         "9": {
          "1": "ADT",
          "2": "A01",
          "3": "9.3-DEF"
         }
        }
       }
      },
      "text/plain": [
       "<IPython.core.display.JSON object>"
      ]
     },
     "execution_count": 5,
     "metadata": {
      "application/json": {
       "expanded": false,
       "root": "root"
      }
     },
     "output_type": "execute_result"
    }
   ],
   "source": [
    "%load_hl7v2_gcs --bucket_name bebinu-dev-test-data --source_blob_name hl7v2/simhos/ndjson/adt_a01_msh.hl7.fhir.input.json"
   ]
  },
  {
   "cell_type": "code",
   "execution_count": 23,
   "metadata": {},
   "outputs": [
    {
     "data": {
      "text/markdown": [
       "\n",
       "## Evaluate whistle mapping language\n",
       "* allows the user to execute whistle mapping language scripts and to immediately see the result of executing the script\n",
       "* result can be displayed in output or stored into a python variable.\n",
       "* inputs and library configs can be read from local filesystem or Google Cloud Storage\n",
       "* outputs a FHIR transaction bundle\n"
      ],
      "text/plain": [
       "<IPython.core.display.Markdown object>"
      ]
     },
     "metadata": {},
     "output_type": "display_data"
    }
   ],
   "source": [
    "%%markdown\n",
    "\n",
    "## Evaluate whistle mapping language\n",
    "* allows the user to execute whistle mapping language scripts and to immediately see the result of executing the script\n",
    "* result can be displayed in output or stored into a python variable.\n",
    "* inputs and library configs can be read from local filesystem or Google Cloud Storage\n",
    "* outputs a FHIR transaction bundle"
   ]
  },
  {
   "cell_type": "code",
   "execution_count": 8,
   "metadata": {},
   "outputs": [
    {
     "data": {
      "text/plain": [
       "\u001b[0;31mDocstring:\u001b[0m\n",
       "::\n",
       "\n",
       "  %wstl [--input INPUT] [--library_config LIBRARY_CONFIG]\n",
       "            [--output OUTPUT]\n",
       "\n",
       "Cell magic to evaluate whistle mapping language from iPython kernel.\n",
       "\n",
       "optional arguments:\n",
       "  --input INPUT         The input. Supports the following prefix notations:\n",
       "                        py://<name_of_python_variable>\n",
       "                        json://<inline_json_object_or_array> : python inline\n",
       "                        dict and list expressions are supported. e.g.\n",
       "                        json://{\"field\":\"value\"} or\n",
       "                        json://[{\"first\":\"value\"},{\"second\":\"value\"}]\n",
       "                        file://<path_to_local_file_system> , supports glob\n",
       "                        wildcard expressions and will only load .json or\n",
       "                        .ndjson file extensions. Each json object/list defined\n",
       "                        within an ndjson will be a separate input to the\n",
       "                        mapping.\n",
       "  --library_config LIBRARY_CONFIG\n",
       "                        Path to the directory where the library mapping files\n",
       "                        are located\n",
       "  --output OUTPUT       Name of python variable to store result. e.g. --output\n",
       "                        temp_var\n",
       "\u001b[0;31mFile:\u001b[0m      ~/miniconda2/envs/labext/lib/python3.5/site-packages/wstl/magics/wstl.py\n"
      ]
     },
     "metadata": {},
     "output_type": "display_data"
    }
   ],
   "source": [
    "%%wstl?"
   ]
  },
  {
   "cell_type": "code",
   "execution_count": 2,
   "metadata": {},
   "outputs": [
    {
     "data": {
      "application/json": {
       "Resources": [
        {
         "address": [
          {
           "country": "44"
          }
         ],
         "id": "7f2f0756-fa47-411e-9b87-2220f3851479",
         "identifier": [
          {
           "type": {
            "coding": [
             {
              "system": "http://terminology.hl7.org/CodeSystem/v2-0301"
             }
            ]
           },
           "value": "RAL"
          },
          {
           "system": "urn:ietf:rfc:3986",
           "type": {
            "coding": [
             {
              "code": "UUID",
              "system": "http://terminology.hl7.org/CodeSystem/v2-0301"
             }
            ]
           },
           "value": "4.2-two"
          }
         ],
         "resourceType": "Organization"
        },
        {
         "id": "f223e1a7-7880-43ed-b47f-b585e0afcc92",
         "identifier": [
          {
           "type": {
            "coding": [
             {
              "code": "DCode",
              "system": "http://terminology.hl7.org/CodeSystem/v2-0203"
             }
            ]
           },
           "value": "6010"
          }
         ],
         "name": "Reciever - YIEWSLEY FAMILY PRACTICE",
         "resourceType": "Organization"
        },
        {
         "id": "d31e68a8-f86a-45ed-b44c-61d8909bc22d",
         "identifier": [
          {
           "type": {
            "coding": [
             {
              "code": "RCode",
              "system": "http://terminology.hl7.org/CodeSystem/v2-0203"
             }
            ]
           },
           "value": "6010"
          }
         ],
         "name": "Resposible - YIEWSLEY FAMILY PRACTICE",
         "resourceType": "Organization"
        },
        {
         "destination": [
          {
           "endpoint": "RAL",
           "name": "STREAMS"
          }
         ],
         "event": {
          "code": "A01",
          "system": "http://terminology.hl7.org/CodeSystem/v2-0003"
         },
         "id": "ae33cabf-edaa-42a8-8fd8-707604ce4839",
         "language": "ENG",
         "meta": {
          "security": [
           {
            "code": "8-Security"
           }
          ],
          "tag": [
           {
            "code": "T",
            "system": "http://terminology.hl7.org/CodeSystem/v2-0103"
           },
           {
            "code": "11.2-processing",
            "system": "http://terminology.hl7.org/CodeSystem/v2-0207"
           }
          ]
         },
         "receiver": {
          "reference": "Organization/f223e1a7-7880-43ed-b47f-b585e0afcc92"
         },
         "resourceType": "MessageHeader",
         "responsible": {
          "reference": "Organization/d31e68a8-f86a-45ed-b44c-61d8909bc22d"
         },
         "sender": {
          "reference": "Organization/7f2f0756-fa47-411e-9b87-2220f3851479"
         },
         "source": {
          "endpoint": "3.2-two",
          "name": "CERNER"
         },
         "timestamp": "2019-03-09T13:01:56.9339Z"
        },
        {
         "id": "0e0016cc-24cd-4cba-b488-3b099762955a",
         "identifier": [
          {
           "type": {
            "coding": [
             {
              "system": "http://terminology.hl7.org/CodeSystem/v2-0301"
             }
            ]
           },
           "value": "CERNER"
          }
         ],
         "resourceType": "Device"
        },
        {
         "agent": [
          {
           "whoReference": {
            "reference": "Device/0e0016cc-24cd-4cba-b488-3b099762955a"
           }
          }
         ],
         "id": "d0a5efc9-0a53-4e4b-b7fb-39c1b1df7f0b",
         "recorded": "2019-03-09T13:01:56.9339Z",
         "resourceType": "Provenance",
         "target": [
          {
           "reference": "MessageHeader/ae33cabf-edaa-42a8-8fd8-707604ce4839"
          }
         ]
        },
        {
         "id": "740824a4-d2cf-455b-98ce-552a80129192",
         "identifier": {
          "value": "7"
         },
         "resourceType": "Bundle",
         "type": "message"
        }
       ]
      },
      "text/plain": [
       "<IPython.core.display.JSON object>"
      ]
     },
     "execution_count": 2,
     "metadata": {
      "application/json": {
       "expanded": false,
       "root": "root"
      }
     },
     "output_type": "execute_result"
    }
   ],
   "source": [
    "%%wstl --output ccf --input gs://bebinu-dev-test-data/hl7v2/simhos/ndjson/adt_a01_msh.hl7.fhir.input.json --library_config gs://bebinu-dev-test-data/hl7v2/library_functions/*.wstl\n",
    "\n",
    "$this : Process_ADT_A01($root.ADT_A01);\n",
    "\n",
    "// --input gs://bebinu-dev-test-data/hl7v2/simhos/ndjson/adt_a01_msh.hl7.fhir.input.json\n",
    "// --input file://adt_a01_msh.hl7.fhir.input.json\n",
    "// --input py://b\n",
    "    \n",
    "// Reads from Google Storage\n",
    "// %%wstl --output resources --input gs://bebinu-dev-test-daa/hl7v2/simhos/ndjson/adt_a01_msh.hl7.fhir.input.json --library_config gs://bebinu-dev-test-data/hl7v2/library_functions/*.wstl\n",
    "// gs://bebinu-dev-test-data/hl7v2/library_functions/*\n",
    "\n",
    "// Reads from local file system\n",
    "// %%wstl --output resources --input file://examples/adt_a01_msh.hl7.fhir.input.json --library_config file:///google/src/cloud/bebinu/magic_commands/google3/third_party/cloud_healthcare_data_harmonization/mapping_configs/hl7v2_fhir_stu3/projector_library/*\n",
    "\n",
    "// Description: Define HL7v2 (version 2.9) to FHIR STU3 transformation\n",
    "//\n",
    "// Argument(s):\n",
    "//   ADT_A01 HL7v2 Message Type (version 2.9)\n",
    "//   ADT_A01 Segments covered in this mapping configuration are: MSH\n",
    "//\n",
    "// Output(s):\n",
    "//   FHIR STU3 Resources : http://www.hl7.org/fhir/stu3/resourcelist.html\n",
    "// List of Generated FHIR Resources:\n",
    "//   Bundle: https://www.hl7.org/fhir/stu3/bundle.html\n",
    "\n",
    "def Process_ADT_A01(ADT_A01) {\n",
    "  var MH : MSH_MessageHeader(ADT_A01.MSH);\n",
    "  out Resources : MH;\n",
    "  out Resources : HD_Provenance(ADT_A01.MSH.3, MH);\n",
    "  out Resources : MSH_Bundle(ADT_A01.MSH.10);\n",
    "}\n",
    "\n",
    "// post Output_Transaction\n"
   ]
  },
  {
   "cell_type": "code",
   "execution_count": 24,
   "metadata": {},
   "outputs": [
    {
     "data": {
      "text/markdown": [
       "\n",
       "## Validate FHIR Resources \n",
       "* user can create a FHIR resource using whistle and then run the fhir_validate magic command to validate that the resource. \n",
       "* the fhir_validate line magic will perform structure, cardinality, and value domains validation on the resource. \n"
      ],
      "text/plain": [
       "<IPython.core.display.Markdown object>"
      ]
     },
     "metadata": {},
     "output_type": "display_data"
    }
   ],
   "source": [
    "%%markdown\n",
    "\n",
    "## Validate FHIR Resources \n",
    "* user can create a FHIR resource using whistle and then run the fhir_validate magic command to validate that the resource. \n",
    "* the fhir_validate line magic will perform structure, cardinality, and value domains validation on the resource. \n"
   ]
  },
  {
   "cell_type": "code",
   "execution_count": 3,
   "metadata": {},
   "outputs": [
    {
     "data": {
      "application/json": {
       "id": "85675664-7f8b-4e84-a052-580aae268944",
       "resourceType": "MessageHeader",
       "source": {
        "name": "CERNER"
       }
      },
      "text/plain": [
       "<IPython.core.display.JSON object>"
      ]
     },
     "execution_count": 3,
     "metadata": {
      "application/json": {
       "expanded": false,
       "root": "root"
      }
     },
     "output_type": "execute_result"
    }
   ],
   "source": [
    "%%wstl --output validation_resource --input gs://bebinu-dev-test-data/hl7v2/simhos/ndjson/adt_a01_msh.hl7.fhir.input.json --library_config gs://bebinu-dev-test-data/hl7v2/library_functions/*.wstl\n",
    "\n",
    "$this : Process_ADT_A01($root.ADT_A01);\n",
    "\n",
    "// Description: Define HL7v2 (version 2.9) to FHIR STU3 transformation\n",
    "//\n",
    "// Argument(s):\n",
    "//   ADT_A01 HL7v2 Message Type (version 2.9)\n",
    "//   ADT_A01 Segments covered in this mapping configuration are: MSH\n",
    "//\n",
    "// Output(s):\n",
    "//   FHIR STU3 Resources : http://www.hl7.org/fhir/stu3/resourcelist.html\n",
    "\n",
    "def Process_ADT_A01(ADT_A01) {\n",
    "  var MH : MSH_MessageHeader_local(ADT_A01.MSH);\n",
    "  $this : MH;\n",
    "}\n",
    "\n",
    "def MSH_MessageHeader_local (MSH) {\n",
    "  id : $UUID();\n",
    "  resourceType : \"MessageHeader\";\n",
    "  \n",
    "  source.name : MSH.3.1;\n",
    "    \n",
    "  // uncomment the line below to produce a validation error\n",
    "  // source.software : 1;\n",
    "    \n",
    "}\n"
   ]
  },
  {
   "cell_type": "code",
   "execution_count": 4,
   "metadata": {},
   "outputs": [
    {
     "data": {
      "application/json": {
       "status": [
        {
         "message": "Validation Success"
        }
       ]
      },
      "text/plain": [
       "<IPython.core.display.JSON object>"
      ]
     },
     "execution_count": 4,
     "metadata": {
      "application/json": {
       "expanded": false,
       "root": "root"
      }
     },
     "output_type": "execute_result"
    }
   ],
   "source": [
    "%fhir_validate --version stu3 --input py://validation_resource"
   ]
  },
  {
   "cell_type": "code",
   "execution_count": null,
   "metadata": {},
   "outputs": [],
   "source": []
  }
 ],
 "metadata": {
  "kernelspec": {
   "display_name": "Python 3",
   "language": "python",
   "name": "python3"
  },
  "language_info": {
   "codemirror_mode": {
    "name": "ipython",
    "version": 3
   },
   "file_extension": ".py",
   "mimetype": "text/x-python",
   "name": "python",
   "nbconvert_exporter": "python",
   "pygments_lexer": "ipython3",
   "version": "3.7.3"
  }
 },
 "nbformat": 4,
 "nbformat_minor": 4
}
